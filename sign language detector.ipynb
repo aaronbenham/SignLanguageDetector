{
 "cells": [
  {
   "cell_type": "markdown",
   "id": "4b9ec1e8",
   "metadata": {},
   "source": [
    "## 1. Install & Import Depencies"
   ]
  },
  {
   "cell_type": "code",
   "execution_count": 4,
   "id": "531900c6",
   "metadata": {},
   "outputs": [
    {
     "name": "stdout",
     "output_type": "stream",
     "text": [
      "Requirement already satisfied: mediapipe in c:\\users\\fiercepc\\anaconda3\\lib\\site-packages (0.8.5)\n",
      "Requirement already satisfied: wheel in c:\\users\\fiercepc\\anaconda3\\lib\\site-packages (from mediapipe) (0.36.2)\n",
      "Requirement already satisfied: attrs>=19.1.0 in c:\\users\\fiercepc\\anaconda3\\lib\\site-packages (from mediapipe) (20.3.0)\n",
      "Requirement already satisfied: numpy in c:\\users\\fiercepc\\anaconda3\\lib\\site-packages (from mediapipe) (1.19.5)\n",
      "Requirement already satisfied: absl-py in c:\\users\\fiercepc\\anaconda3\\lib\\site-packages (from mediapipe) (0.15.0)\n",
      "Requirement already satisfied: protobuf>=3.11.4 in c:\\users\\fiercepc\\anaconda3\\lib\\site-packages (from mediapipe) (3.20.3)\n",
      "Requirement already satisfied: six in c:\\users\\fiercepc\\anaconda3\\lib\\site-packages (from mediapipe) (1.15.0)\n",
      "Requirement already satisfied: opencv-contrib-python in c:\\users\\fiercepc\\anaconda3\\lib\\site-packages (from mediapipe) (4.8.0.76)\n"
     ]
    }
   ],
   "source": [
    "!pip install mediapipe"
   ]
  },
  {
   "cell_type": "code",
   "execution_count": 3,
   "id": "bd9283b8",
   "metadata": {},
   "outputs": [],
   "source": [
    "import cv2\n",
    "import numpy as np\n",
    "import os\n",
    "import matplotlib.pyplot as plt\n",
    "import time\n",
    "import mediapipe as mp # library with model for face and hand catpures"
   ]
  },
  {
   "cell_type": "markdown",
   "id": "384e50af",
   "metadata": {},
   "source": [
    "## 2. Initialise Model and Detection Function"
   ]
  },
  {
   "cell_type": "code",
   "execution_count": 4,
   "id": "d4ff3a83",
   "metadata": {},
   "outputs": [],
   "source": [
    "mp_holistic = mp.solutions.holistic # holistic model\n",
    "mp_drawing = mp.solutions.drawing_utils # drawing utilities"
   ]
  },
  {
   "cell_type": "code",
   "execution_count": 5,
   "id": "14a6aca9",
   "metadata": {},
   "outputs": [],
   "source": [
    "def mediapipe_detection(image, model):\n",
    "    image = cv2.cvtColor(image, cv2.COLOR_BGR2RGB) \n",
    "    image.flags.writeable = False # saving memory\n",
    "    \n",
    "    results = model.process(image)\n",
    "    \n",
    "    image.flags.writeable = True\n",
    "    image = cv2.cvtColor(image, cv2.COLOR_RGB2BGR)\n",
    "    \n",
    "    return image, results"
   ]
  },
  {
   "cell_type": "code",
   "execution_count": 6,
   "id": "3886a240",
   "metadata": {},
   "outputs": [],
   "source": [
    "def draw_landmarks(image, results): # landmark is a point on the body, face, or hand\n",
    "    mp_drawing.draw_landmarks(image, results.face_landmarks, mp_holistic.FACE_CONNECTIONS)\n",
    "    mp_drawing.draw_landmarks(image, results.pose_landmarks, mp_holistic.POSE_CONNECTIONS)\n",
    "    mp_drawing.draw_landmarks(image, results.left_hand_landmarks, mp_holistic.HAND_CONNECTIONS)\n",
    "    mp_drawing.draw_landmarks(image, results.right_hand_landmarks, mp_holistic.HAND_CONNECTIONS)"
   ]
  },
  {
   "cell_type": "markdown",
   "id": "9382a31a",
   "metadata": {},
   "source": [
    "## 3. Video Capture"
   ]
  },
  {
   "cell_type": "code",
   "execution_count": 7,
   "id": "c4a60b21",
   "metadata": {},
   "outputs": [],
   "source": [
    "cap = cv2.VideoCapture(0)\n",
    "\n",
    "with mp_holistic.Holistic(min_detection_confidence=0.7, min_tracking_confidence=0.7) as holistic: # set mediapipe model\n",
    "    while cap.isOpened():\n",
    "        # capture video frame\n",
    "        ret, frame = cap.read()\n",
    "        frame = cv2.flip(frame, 1)\n",
    "        \n",
    "        # make face, hand, and body detections\n",
    "        image, results = mediapipe_detection(frame, holistic)\n",
    "        \n",
    "        # draw detections\n",
    "        draw_landmarks(image, results)\n",
    "        \n",
    "        # display frame\n",
    "        cv2.imshow(\"Webcam Feed\", image)\n",
    "\n",
    "        if cv2.waitKey(10) & 0xFF == ord(\"q\"):\n",
    "            break\n",
    "\n",
    "    cap.release()\n",
    "    cv2.destroyAllWindows()"
   ]
  },
  {
   "cell_type": "markdown",
   "id": "75d5dd1f",
   "metadata": {},
   "source": [
    "## 4. Extract Landmarks"
   ]
  },
  {
   "cell_type": "code",
   "execution_count": 8,
   "id": "2d88bb1b",
   "metadata": {},
   "outputs": [],
   "source": [
    "def extract_landmarks(results):\n",
    "    try:\n",
    "        p_landmarks = np.array([[res.x, res.y, res.z, res.visibility] for res in results.pose_landmarks.landmark]).flatten()\n",
    "    except:\n",
    "        p_landmarks = np.zeros(33*4) # 33 landmarks * 4 coords (x,y,z,vis)\n",
    "\n",
    "    try:\n",
    "        f_landmarks = np.array([[res.x, res.y, res.z] for res in results.face_landmarks.landmark]).flatten()\n",
    "    except:\n",
    "        f_landmarks = np.zeros(468*3) # 468 landmarks * 3 coords (x,y,z)\n",
    "\n",
    "    try:\n",
    "        lh_landmarks = np.array([[res.x, res.y, res.z] for res in results.left_hand_landmarks.landmark]).flatten()\n",
    "    except:\n",
    "        lh_landmarks = np.zeros(21*3) # 21 landmarks * 3 coords (x,y,z)\n",
    "\n",
    "    try:\n",
    "        rh_landmarks = np.array([[res.x, res.y, res.z] for res in results.right_hand_landmarks.landmark]).flatten()\n",
    "    except:\n",
    "        rh_landmarks = np.zeros(21*3) # 21 landmarks * 3 coords (x,y,z)\n",
    "        \n",
    "    return np.concatenate([p_landmarks, f_landmarks, lh_landmarks, rh_landmarks])"
   ]
  },
  {
   "cell_type": "markdown",
   "id": "d4404079",
   "metadata": {},
   "source": [
    "## 5. Dataset"
   ]
  },
  {
   "cell_type": "code",
   "execution_count": 11,
   "id": "ce09c276",
   "metadata": {},
   "outputs": [],
   "source": [
    "DATA_PATH = os.path.join(\"MP_Data\") # path for exported data - numpy arrays\n",
    "\n",
    "actions = np.array([\"hello\", \"thanks\", \"are_you_okay\"])\n",
    "\n",
    "no_sequences = 40 # 30 videos for each action\n",
    "sequence_length = 30 # 30 frames for action"
   ]
  },
  {
   "cell_type": "code",
   "execution_count": 13,
   "id": "db9ca50e",
   "metadata": {},
   "outputs": [],
   "source": [
    "for action in actions:\n",
    "    for sequence in range(no_sequences):\n",
    "        try:\n",
    "            os.makedirs(os.path.join(DATA_PATH, action, str(sequence)))\n",
    "        except:\n",
    "            pass"
   ]
  },
  {
   "cell_type": "code",
   "execution_count": 14,
   "id": "6f989755",
   "metadata": {},
   "outputs": [],
   "source": [
    "cap = cv2.VideoCapture(0)\n",
    "\n",
    "with mp_holistic.Holistic(min_detection_confidence=0.5, min_tracking_confidence=0.5) as holistic: # set mediapipe model\n",
    "    for action in actions: # for each action\n",
    "        for sequence in range(no_sequences): # for each 30 videos\n",
    "            for frame_num in range(sequence_length): # for each 30 frames\n",
    "                ret, frame = cap.read()\n",
    "                frame = cv2.flip(frame, 1)\n",
    "\n",
    "                # make face, hand, and body detections\n",
    "                image, results = mediapipe_detection(frame, holistic)\n",
    "\n",
    "                # draw detections\n",
    "                draw_landmarks(image, results)\n",
    "                \n",
    "                # easier to distinguish between recordings\n",
    "                if frame_num == 0:\n",
    "                    cv2.putText(image, \"STARTING COLLECTION\", (120, 200), cv2.FONT_HERSHEY_SIMPLEX, 1, (0, 255, 0), 4, cv2.LINE_AA)\n",
    "                    cv2.putText(image, \"Collecting frames for {} video number {}\".format(action, sequence), (15, 12), cv2.FONT_HERSHEY_SIMPLEX, 0.5, (0, 255, 0), 1, cv2.LINE_AA)\n",
    "                    \n",
    "                    cv2.imshow(\"Webcam Feed\", image)\n",
    "                    cv2.waitKey(2000)\n",
    "                else:\n",
    "                    cv2.putText(image, \"Collecting frames for {} video number {}\".format(action, sequence), (15, 12), cv2.FONT_HERSHEY_SIMPLEX, 0.5, (0, 255, 0), 1, cv2.LINE_AA)\n",
    "                    cv2.imshow(\"Webcam Feed\", image)\n",
    "                \n",
    "                keypoints = extract_landmarks(results)\n",
    "                npy_path = os.path.join(DATA_PATH, action, str(sequence), str(frame_num)) # saving data to correct file\n",
    "                np.save(npy_path, keypoints)\n",
    "\n",
    "                if cv2.waitKey(10) & 0xFF == ord(\"q\"):\n",
    "                    break\n",
    "\n",
    "    cap.release()\n",
    "    cv2.destroyAllWindows()"
   ]
  },
  {
   "cell_type": "markdown",
   "id": "276eb0f1",
   "metadata": {},
   "source": [
    "## 6. Process Data and Create Labels"
   ]
  },
  {
   "cell_type": "code",
   "execution_count": 15,
   "id": "75dc7cca",
   "metadata": {},
   "outputs": [],
   "source": [
    "from sklearn.model_selection import train_test_split\n",
    "from tensorflow.keras.utils import to_categorical"
   ]
  },
  {
   "cell_type": "code",
   "execution_count": 16,
   "id": "c07bcb18",
   "metadata": {},
   "outputs": [
    {
     "data": {
      "text/plain": [
       "{'hello': 0, 'thanks': 1, 'are_you_okay': 2}"
      ]
     },
     "execution_count": 16,
     "metadata": {},
     "output_type": "execute_result"
    }
   ],
   "source": [
    "label_map = {label:num for num, label in enumerate(actions)}\n",
    "label_map"
   ]
  },
  {
   "cell_type": "code",
   "execution_count": 18,
   "id": "d04cca4c",
   "metadata": {},
   "outputs": [],
   "source": [
    "sequences, labels = [], []\n",
    "for action in actions:\n",
    "    for sequence in range(no_sequences):\n",
    "        window = [] # represent all frames for that sequence\n",
    "        for frame_num in range(sequence_length):\n",
    "            res = np.load(os.path.join(DATA_PATH, action, str(sequence), \"{}.npy\".format(frame_num)))\n",
    "            window.append(res)\n",
    "        sequences.append(window) # append all videos to a sequence array - 90 videos (30 videos * 3 classes)\n",
    "        labels.append(label_map[action])"
   ]
  },
  {
   "cell_type": "code",
   "execution_count": 19,
   "id": "62f8b26b",
   "metadata": {
    "scrolled": true
   },
   "outputs": [
    {
     "data": {
      "text/plain": [
       "(120, 30, 1662)"
      ]
     },
     "execution_count": 19,
     "metadata": {},
     "output_type": "execute_result"
    }
   ],
   "source": [
    "np.array(sequences).shape # 90 videos of 30 frames with 1662 landmarks"
   ]
  },
  {
   "cell_type": "code",
   "execution_count": 20,
   "id": "84faa522",
   "metadata": {
    "scrolled": true
   },
   "outputs": [
    {
     "data": {
      "text/plain": [
       "(120,)"
      ]
     },
     "execution_count": 20,
     "metadata": {},
     "output_type": "execute_result"
    }
   ],
   "source": [
    "np.array(labels).shape # list of labels for each video (0, 0, 0, ..., 1, 1, 1, ..., 2, 2, 2, ...)"
   ]
  },
  {
   "cell_type": "code",
   "execution_count": 21,
   "id": "2596b5e4",
   "metadata": {},
   "outputs": [],
   "source": [
    "X = np.array(sequences)\n",
    "y = to_categorical(labels).astype(int) # turns to binary sort of list [1, 0, 0] [0, 1, 0] [0, 0, 1]"
   ]
  },
  {
   "cell_type": "code",
   "execution_count": 22,
   "id": "19a37803",
   "metadata": {},
   "outputs": [],
   "source": [
    "X_train, X_test, y_train, y_test = train_test_split(X, y, test_size=0.05)"
   ]
  },
  {
   "cell_type": "markdown",
   "id": "fb6f309e",
   "metadata": {},
   "source": [
    "## 7. Build and Train LSTM Neural Network"
   ]
  },
  {
   "cell_type": "code",
   "execution_count": 23,
   "id": "ba14f228",
   "metadata": {},
   "outputs": [],
   "source": [
    "from tensorflow.keras.models import Sequential\n",
    "from tensorflow.keras.layers import LSTM, Dense\n",
    "from tensorflow.keras.callbacks import TensorBoard"
   ]
  },
  {
   "cell_type": "code",
   "execution_count": 24,
   "id": "ce57125f",
   "metadata": {},
   "outputs": [],
   "source": [
    "log_dir = os.path.join(\"Logs\")\n",
    "tb_callback = TensorBoard(log_dir=log_dir)"
   ]
  },
  {
   "cell_type": "code",
   "execution_count": 25,
   "id": "bc856b41",
   "metadata": {},
   "outputs": [],
   "source": [
    "model = Sequential()\n",
    "\n",
    "model.add(LSTM(64, return_sequences=True, activation=\"relu\", input_shape=(30, 1662)))\n",
    "model.add(LSTM(128, return_sequences=True, activation=\"relu\"))\n",
    "model.add(LSTM(64, return_sequences=False, activation=\"relu\")) # return sequences False because next layer isnt LSTM\n",
    "\n",
    "model.add(Dense(64, activation=\"relu\"))\n",
    "model.add(Dense(32, activation=\"relu\"))\n",
    "model.add(Dense(actions.shape[0], activation=\"softmax\")) # returns [0.9, 0.2, 0.1] <- why we need \"to_categorical\""
   ]
  },
  {
   "cell_type": "code",
   "execution_count": 26,
   "id": "10253bd0",
   "metadata": {},
   "outputs": [],
   "source": [
    "model.compile(optimizer=\"Adam\", loss=\"categorical_crossentropy\", metrics=[\"categorical_accuracy\"])"
   ]
  },
  {
   "cell_type": "code",
   "execution_count": null,
   "id": "e87c9f99",
   "metadata": {
    "scrolled": true
   },
   "outputs": [],
   "source": [
    "model.fit(X_train, y_train, epochs=2000, callbacks=[tb_callback])"
   ]
  },
  {
   "cell_type": "code",
   "execution_count": 28,
   "id": "1a7c454f",
   "metadata": {},
   "outputs": [
    {
     "name": "stdout",
     "output_type": "stream",
     "text": [
      "Model: \"sequential\"\n",
      "_________________________________________________________________\n",
      "Layer (type)                 Output Shape              Param #   \n",
      "=================================================================\n",
      "lstm (LSTM)                  (None, 30, 64)            442112    \n",
      "_________________________________________________________________\n",
      "lstm_1 (LSTM)                (None, 30, 128)           98816     \n",
      "_________________________________________________________________\n",
      "lstm_2 (LSTM)                (None, 64)                49408     \n",
      "_________________________________________________________________\n",
      "dense (Dense)                (None, 64)                4160      \n",
      "_________________________________________________________________\n",
      "dense_1 (Dense)              (None, 32)                2080      \n",
      "_________________________________________________________________\n",
      "dense_2 (Dense)              (None, 3)                 99        \n",
      "=================================================================\n",
      "Total params: 596,675\n",
      "Trainable params: 596,675\n",
      "Non-trainable params: 0\n",
      "_________________________________________________________________\n"
     ]
    }
   ],
   "source": [
    "model.summary()"
   ]
  },
  {
   "cell_type": "code",
   "execution_count": 29,
   "id": "2908a15a",
   "metadata": {},
   "outputs": [],
   "source": [
    "res = model.predict(X_test)"
   ]
  },
  {
   "cell_type": "code",
   "execution_count": 35,
   "id": "156ba622",
   "metadata": {},
   "outputs": [
    {
     "name": "stdout",
     "output_type": "stream",
     "text": [
      "hello\n",
      "hello\n"
     ]
    }
   ],
   "source": [
    "n = 4\n",
    "print(actions[np.argmax(res[n])])\n",
    "print(actions[np.argmax(y_test[n])])"
   ]
  },
  {
   "cell_type": "markdown",
   "id": "55775745",
   "metadata": {},
   "source": [
    "## 8. Evaluation"
   ]
  },
  {
   "cell_type": "code",
   "execution_count": 36,
   "id": "3a32cabb",
   "metadata": {},
   "outputs": [],
   "source": [
    "from sklearn.metrics import multilabel_confusion_matrix, accuracy_score"
   ]
  },
  {
   "cell_type": "code",
   "execution_count": 37,
   "id": "b6efed58",
   "metadata": {},
   "outputs": [],
   "source": [
    "yhat = model.predict(X_test)"
   ]
  },
  {
   "cell_type": "code",
   "execution_count": 38,
   "id": "71117439",
   "metadata": {},
   "outputs": [],
   "source": [
    "ytrue = np.argmax(y_test, axis=1).tolist()\n",
    "yhat = np.argmax(yhat, axis=1).tolist()"
   ]
  },
  {
   "cell_type": "code",
   "execution_count": 39,
   "id": "66c55287",
   "metadata": {
    "scrolled": true
   },
   "outputs": [
    {
     "data": {
      "text/plain": [
       "array([[[5, 0],\n",
       "        [0, 1]],\n",
       "\n",
       "       [[3, 0],\n",
       "        [0, 3]],\n",
       "\n",
       "       [[4, 0],\n",
       "        [0, 2]]], dtype=int64)"
      ]
     },
     "execution_count": 39,
     "metadata": {},
     "output_type": "execute_result"
    }
   ],
   "source": [
    "multilabel_confusion_matrix(ytrue, yhat)"
   ]
  },
  {
   "cell_type": "code",
   "execution_count": 40,
   "id": "301ea6d6",
   "metadata": {},
   "outputs": [
    {
     "data": {
      "text/plain": [
       "1.0"
      ]
     },
     "execution_count": 40,
     "metadata": {},
     "output_type": "execute_result"
    }
   ],
   "source": [
    "accuracy_score(ytrue, yhat)"
   ]
  },
  {
   "cell_type": "markdown",
   "id": "aa18422b",
   "metadata": {},
   "source": [
    "## 9. Real time testing"
   ]
  },
  {
   "cell_type": "code",
   "execution_count": null,
   "id": "845bc7a8",
   "metadata": {},
   "outputs": [],
   "source": [
    "# detection variables\n",
    "sequence = []\n",
    "sentence = []\n",
    "threshold = 0.5\n",
    "\n",
    "cap = cv2.VideoCapture(0)\n",
    "\n",
    "with mp_holistic.Holistic(min_detection_confidence=0.7, min_tracking_confidence=0.7) as holistic: # set mediapipe model\n",
    "    while cap.isOpened():\n",
    "        # capture video frame\n",
    "        ret, frame = cap.read()\n",
    "        frame = cv2.flip(frame, 1)\n",
    "        \n",
    "        # make face, hand, and body detections\n",
    "        image, results = mediapipe_detection(frame, holistic)\n",
    "        \n",
    "        # draw detections\n",
    "        draw_landmarks(image, results)\n",
    "        \n",
    "        # create predictions\n",
    "        keypoints = extract_landmarks(results)\n",
    "        sequence.insert(0, keypoints)  # inputs frame data at start of sequence\n",
    "        sequence = sequence[:30] # retrieving the most recent 30 frames\n",
    "        \n",
    "        if len(sequence) == 30:\n",
    "            res = model.predict(np.expand_dims(sequence, axis=0))[0] # expected in shape (1, 30, 1662)\n",
    "            \n",
    "        if res[np.argmax(res)] > threshold:\n",
    "            if len(sentence) > 0:\n",
    "                if actions[np.argmax(res)] != sentence[-1]:\n",
    "                    sentence.append(actions[np.argmax(res)])\n",
    "                    print(sentence)\n",
    "            else:\n",
    "                sentence.append(actions[np.argmax(res)])\n",
    "            \n",
    "            if len(sentence) > 5:\n",
    "                sentence = sentence[-5:]\n",
    "        \n",
    "        # display frame\n",
    "        cv2.imshow(\"Webcam Feed\", image)\n",
    "\n",
    "        if cv2.waitKey(10) & 0xFF == ord(\"q\"):\n",
    "            break\n",
    "\n",
    "    cap.release()\n",
    "    cv2.destroyAllWindows()"
   ]
  }
 ],
 "metadata": {
  "kernelspec": {
   "display_name": "Python 3",
   "language": "python",
   "name": "python3"
  },
  "language_info": {
   "codemirror_mode": {
    "name": "ipython",
    "version": 3
   },
   "file_extension": ".py",
   "mimetype": "text/x-python",
   "name": "python",
   "nbconvert_exporter": "python",
   "pygments_lexer": "ipython3",
   "version": "3.8.8"
  }
 },
 "nbformat": 4,
 "nbformat_minor": 5
}
